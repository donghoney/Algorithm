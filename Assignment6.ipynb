{
  "nbformat": 4,
  "nbformat_minor": 0,
  "metadata": {
    "colab": {
      "name": "Assignment6.ipynb",
      "provenance": [],
      "private_outputs": true,
      "collapsed_sections": [],
      "authorship_tag": "ABX9TyOgrNtWKLf0m33/+JFmqVmE",
      "include_colab_link": true
    },
    "kernelspec": {
      "name": "python3",
      "display_name": "Python 3"
    },
    "accelerator": "GPU"
  },
  "cells": [
    {
      "cell_type": "markdown",
      "metadata": {
        "id": "view-in-github",
        "colab_type": "text"
      },
      "source": [
        "<a href=\"https://colab.research.google.com/github/donghoney/Algorithm/blob/master/Assignment6.ipynb\" target=\"_parent\"><img src=\"https://colab.research.google.com/assets/colab-badge.svg\" alt=\"Open In Colab\"/></a>"
      ]
    },
    {
      "cell_type": "code",
      "metadata": {
        "id": "8wfsBd62sHfb",
        "colab_type": "code",
        "colab": {}
      },
      "source": [
        "import numpy as np\n",
        "import matplotlib.pyplot as plt\n",
        "  \n",
        "def accuracy(sigma, label, m):\n",
        "  acc_cnt = 0\n",
        "  for i in range(m):\n",
        "    if sigma[i] < 0.5:\n",
        "      if label[i] == 0:\n",
        "        acc_cnt += 1\n",
        "    elif sigma[i] > 0.5:\n",
        "      if label[i] == 1:\n",
        "        acc_cnt += 1\n",
        "  acc_per = acc_cnt / m * 100\n",
        "  return acc_per\n",
        "\n",
        "def gfunc(x, y, theta_arr):\n",
        "  gg = theta_arr[0] * 1 + theta_arr[1] * x + theta_arr[2] * y + theta_arr[3] * x * y + theta_arr[4] * x**2 + theta_arr[5] * y**2 + theta_arr[6] * x**2 * y**2 + theta_arr[7] * x**4 + theta_arr[8] * y**4 + theta_arr[9] * x**4 * y**4 + theta_arr[10] * x**6 + theta_arr[11] * y**6 + theta_arr[12] * x**6 * y**6\n",
        "  return gg\n",
        "\n",
        "data    = np.genfromtxt(\"data-nonlinear.txt\", delimiter=',')\n",
        "\n",
        "pointX  = data[:, 0]\n",
        "pointY  = data[:, 1]\n",
        "label   = data[:, 2]\n",
        "\n",
        "pointX0 = pointX[label == 0]\n",
        "pointY0 = pointY[label == 0]\n",
        "\n",
        "pointX1 = pointX[label == 1]\n",
        "pointY1 = pointY[label == 1]\n",
        "\n",
        "theta_arr = np.array([-1.0, 1.0, 1.0, 1.0, 1.0, 1.0, 1.0, 1.0, 1.0, 1.0, 1.0, 1.0, 1.0])\n",
        "fx_arr = np.array([1, pointX, pointY, pointX*pointY, pointX**2, pointY**2, pointX**2 * pointY**2, pointX**4, pointY**4, pointX**4 * pointY**4, pointX**6, pointY**6, pointX**6 * pointY**6])\n",
        "\n",
        "JVal = np.array([], dtype=np.float32)         # J 값 담을 배열 생성\n",
        "m = len(pointX)\n",
        "rate = 0.007\n",
        "cost = 0.0\n",
        "it = 0                       # iterator\n",
        "iteratorNum = []\n",
        "acc_num = []\n",
        "\n",
        "while True:\n",
        "  g = theta_arr[0] * fx_arr[0] + theta_arr[1] * fx_arr[1] + theta_arr[2] * fx_arr[2] + theta_arr[3] * fx_arr[3] + theta_arr[4] * fx_arr[4] + theta_arr[5] * fx_arr[5] + theta_arr[6] * fx_arr[6] + theta_arr[7] * fx_arr[7] + theta_arr[8] * fx_arr[8] + theta_arr[9] * fx_arr[9] + theta_arr[10] * fx_arr[10] + theta_arr[11] * fx_arr[11] + theta_arr[12] * fx_arr[12]\n",
        "  sigma = 1 / (1 + np.exp(-1 * g))\n",
        "  J = ( 1/ m) * np.sum(-1 * label * np.log(sigma) - (1 - label) * np.log(1 - sigma))\n",
        "  if cost == J:                     # convergence 할 때까지 실행\n",
        "    break\n",
        "  if it == 1000000:\n",
        "    break\n",
        "  acc_num.append(accuracy(sigma, label, m))\n",
        "  JVal =np.append(JVal, np.array(J))             # cost 값 저장\n",
        "  it += 1\n",
        "  iteratorNum.append(it)\n",
        "  theta_arr[0] = theta_arr[0] - rate * (1 / m) * np.sum((sigma - label) * fx_arr[0])          # Gradient Descent\n",
        "  theta_arr[1] = theta_arr[1] - rate * (1 / m) * np.sum((sigma - label) * fx_arr[1])\n",
        "  theta_arr[2] = theta_arr[2] - rate * (1 / m) * np.sum((sigma - label) * fx_arr[2])\n",
        "  theta_arr[3] = theta_arr[3] - rate * (1 / m) * np.sum((sigma - label) * fx_arr[3])\n",
        "  theta_arr[4] = theta_arr[4] - rate * (1 / m) * np.sum((sigma - label) * fx_arr[4])\n",
        "  theta_arr[5] = theta_arr[5] - rate * (1 / m) * np.sum((sigma - label) * fx_arr[5])\n",
        "  theta_arr[6] = theta_arr[6] - rate * (1 / m) * np.sum((sigma - label) * fx_arr[6])\n",
        "  theta_arr[7] = theta_arr[7] - rate * (1 / m) * np.sum((sigma - label) * fx_arr[7])\n",
        "  theta_arr[8] = theta_arr[8] - rate * (1 / m) * np.sum((sigma - label) * fx_arr[8])\n",
        "  theta_arr[9] = theta_arr[9] - rate * (1 / m) * np.sum((sigma - label) * fx_arr[9])\n",
        "  theta_arr[10] = theta_arr[10] - rate * (1 / m) * np.sum((sigma - label) * fx_arr[10])\n",
        "  theta_arr[11] = theta_arr[11] - rate * (1 / m) * np.sum((sigma - label) * fx_arr[11])\n",
        "  theta_arr[12] = theta_arr[12] - rate * (1 / m) * np.sum((sigma - label) * fx_arr[12])\n",
        "  cost = J          #convergence한지 비교하기 위해 이전의 cost값 저장\n",
        "\n",
        "x = np.linspace(-1, 1, 100)\n",
        "y = np.linspace(-1, 1, 100)\n",
        "\n",
        "X, Y = np.meshgrid(x, y)\n",
        "Z = gfunc(X, Y, theta_arr)"
      ],
      "execution_count": 0,
      "outputs": []
    },
    {
      "cell_type": "code",
      "metadata": {
        "id": "EZmnqx9asarf",
        "colab_type": "code",
        "colab": {}
      },
      "source": [
        "plt.figure()\n",
        "plt.scatter(pointX0, pointY0, c='b')\n",
        "plt.scatter(pointX1, pointY1, c='r')\n",
        "plt.tight_layout()\n",
        "plt.gca().set_aspect('equal', adjustable='box')\n",
        "plt.show()"
      ],
      "execution_count": 0,
      "outputs": []
    },
    {
      "cell_type": "markdown",
      "metadata": {
        "id": "r2gbbej0vxBA",
        "colab_type": "text"
      },
      "source": [
        "$g(x, y, {\\theta}) = -{\\theta}_0 + {\\theta}_1x\\ +\\ {\\theta}_2y\\ \\ +\\ \\ {\\theta}_3xy\\ +\\ {\\theta}_4x^{2}+{\\theta}_5y^{2}\\ +\\ {\\theta}_6x^{2}y^{2}\\ +{\\theta}_7x^{4}+{\\theta}_8y^{4}+{\\theta}_9x^{4}y^{4}+{\\theta}_{10}x^{6}+{\\theta}_{11}y^{6}+{\\theta}_{12}x^{6}y^{6}\\ $\n",
        "\n"
      ]
    },
    {
      "cell_type": "code",
      "metadata": {
        "id": "TN-7E4fKFnSe",
        "colab_type": "code",
        "colab": {}
      },
      "source": [
        "plt.plot(iteratorNum, JVal, 'b')\n",
        "plt.show()"
      ],
      "execution_count": 0,
      "outputs": []
    }
  ]
}